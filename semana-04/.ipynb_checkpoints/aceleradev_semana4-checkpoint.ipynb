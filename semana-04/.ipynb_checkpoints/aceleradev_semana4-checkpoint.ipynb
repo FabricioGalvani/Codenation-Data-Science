{
 "cells": [
  {
   "cell_type": "markdown",
   "metadata": {},
   "source": [
    "# Amostragem - Conceitos"
   ]
  },
  {
   "cell_type": "markdown",
   "metadata": {},
   "source": [
    "População -> refere a todos os membros de um grupo o qual queremos estudar.\n",
    "\n",
    "Amostra -> refere a um pequeno grupo de membros pertencentes a uma população."
   ]
  },
  {
   "cell_type": "markdown",
   "metadata": {},
   "source": [
    "# Amostragem - Problemas\n"
   ]
  },
  {
   "cell_type": "markdown",
   "metadata": {},
   "source": [
    "### Undercoverage Bias\n",
    "\n",
    "✱ Acontece ao analisar muito poucas observações ou omitir segmentos inteiros de uma população.\n",
    "\n",
    "✱ Ex.: Conduzir uma pesquisa de satisfação de funcionários de um hospital durante o dia.\n",
    "\n",
    "    ○ Funcionários do turno noturno não foram contemplados na pesquisa.\n",
    "    \n",
    "### Self-selection Bias\n",
    "\n",
    "✱ Acontece quando as pessoas que se dispuseram a entrar na análise diferem muito da real população.\n",
    "\n",
    "✱ Ex.: Fazer uma pesquisa online sobre um time de futebol.\n",
    "     \n",
    "     ○ Somente pessoas que provavelmente já torcem para o time responderam a pesquisa. \n",
    "\n",
    "### Health-users Bias\n",
    "\n",
    "✱ Acontece quando retiramos uma amostra somente da parte mais sadia da população.\n",
    "\n",
    "✱ Ex.: Realizar uma pesquisa sobre hábitos saudáveis em uma academia.\n",
    "\n",
    "    ○ Pessoas que frequentam academia provavelmente tem hábitos mais saudáveis que a maoria da população.\n",
    "\n",
    "### Survivor Bias\n",
    "\n",
    "✱ Consiste no erro lógico de nos concentrarmos em coisas ou pessoas que sobreviveram a algum processo enquanto ignoramos aqueles que foram eliminados devido a sua falta de visibilidade.\n",
    "\n",
    "✱ Ex.: Aviões da Segunda Guerra Mundial.\n",
    "\n",
    "    ○ As partes danificadas dos aviões que retornam mostram locais onde eles podem sofrer um ataque e ainda voltar para casa em segurança; aqueles atingidos em outros lugares não sobrevivem."
   ]
  },
  {
   "cell_type": "markdown",
   "metadata": {},
   "source": [
    "# Amostragem - Tipos\n",
    "\n",
    "◽ Aleatória\n",
    "\n",
    "◽ Não aleatória\n",
    "\n",
    "◽ Estratificada"
   ]
  },
  {
   "cell_type": "markdown",
   "metadata": {},
   "source": [
    "### Aleatória\n",
    "\n",
    "✱ Escolhe-se n elementos de uma população de tamanho N. Todos os elementos de população tem a mesma probabilidade de ser selecionado."
   ]
  },
  {
   "cell_type": "markdown",
   "metadata": {},
   "source": [
    "### Estratificada\n",
    "\n",
    "∎ Para a aplicação dessas técnicas, é necessário identificar:\n",
    "    \n",
    "    ○ Qual a população relevante?\n",
    "    \n",
    "    ○ Qual a população efetada?\n",
    "    \n",
    "    ○ Qual a subdivisão dessa população?\n",
    "    \n",
    "    ○ Qual o tamanho de cada sub divisão?\n",
    "    \n",
    "    ○ Todas as subdivisões são efetadas?\n",
    "    \n",
    "\n",
    "✱ Amostragem estratificada proporcional:\n",
    "    \n",
    "    ○ A amostra deverá obter camadas que obtenham as mesmas proporções observadas na população.\n",
    "    \n",
    "✱ Amostra estratificada uniforme:\n",
    "    \n",
    "    ○ A atribuir o mesmo tamanho de amostra para todas as camadas, independentemente do peso dos estratos da população."
   ]
  },
  {
   "cell_type": "markdown",
   "metadata": {},
   "source": [
    "# Revisão - Probabilidades\n",
    "\n",
    "○ Variam de 0(impossível) a 1 (certo);\n",
    "\n",
    "○ Probabilidades soma 1;\n",
    "\n",
    "○ A distribuição relaciona x com a probabilidade p(x);\n",
    "\n",
    "○ Podem ser funções discretas ou contínuas.\n",
    "\n",
    "\n",
    "✱ Ex.: Qual a probabilidade de obter cara jogando uma moeda(justa) para cima? (Discreta)\n",
    "\n",
    "✱ Ex.: Qual a probabilidade de uma pessoa tirar nota acima da média no Enem? (Contínua)\n",
    "\n"
   ]
  },
  {
   "cell_type": "code",
   "execution_count": null,
   "metadata": {},
   "outputs": [],
   "source": []
  }
 ],
 "metadata": {
  "kernelspec": {
   "display_name": "Python 3",
   "language": "python",
   "name": "python3"
  },
  "language_info": {
   "codemirror_mode": {
    "name": "ipython",
    "version": 3
   },
   "file_extension": ".py",
   "mimetype": "text/x-python",
   "name": "python",
   "nbconvert_exporter": "python",
   "pygments_lexer": "ipython3",
   "version": "3.8.0"
  }
 },
 "nbformat": 4,
 "nbformat_minor": 4
}
