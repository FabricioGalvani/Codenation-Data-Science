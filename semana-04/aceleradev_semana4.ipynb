{
 "cells": [
  {
   "cell_type": "markdown",
   "metadata": {},
   "source": [
    "# Amostragem - Conceitos"
   ]
  },
  {
   "cell_type": "markdown",
   "metadata": {},
   "source": [
    "População -> refere a todos os membros de um grupo o qual queremos estudar.\n",
    "\n",
    "Amostra -> refere a um pequeno grupo de membros pertencentes a uma população."
   ]
  },
  {
   "cell_type": "markdown",
   "metadata": {},
   "source": [
    "# Amostragem - Problemas\n"
   ]
  },
  {
   "cell_type": "markdown",
   "metadata": {},
   "source": [
    "### Undercoverage Bias\n",
    "\n",
    "✱ Acontece ao analisar muito poucas observações ou omitir segmentos inteiros de uma população.\n",
    "\n",
    "✱ Ex.: Conduzir uma pesquisa de satisfação de funcionários de um hospital durante o dia.\n",
    "\n",
    "    ○ Funcionários do turno noturno não foram contemplados na pesquisa.\n",
    "    \n",
    "### Self-selection Bias\n",
    "\n",
    "✱ Acontece quando as pessoas que se dispuseram a entrar na análise diferem muito da real população.\n",
    "\n",
    "✱ Ex.: Fazer uma pesquisa online sobre um time de futebol.\n",
    "     \n",
    "     ○ Somente pessoas que provavelmente já torcem para o time responderam a pesquisa. \n",
    "\n",
    "### Health-users Bias\n",
    "\n",
    "✱ Acontece quando retiramos uma amostra somente da parte mais sadia da população.\n",
    "\n",
    "✱ Ex.: Realizar uma pesquisa sobre hábitos saudáveis em uma academia.\n",
    "\n",
    "    ○ Pessoas que frequentam academia provavelmente tem hábitos mais saudáveis que a maoria da população.\n",
    "\n",
    "### Survivor Bias\n",
    "\n",
    "✱ Consiste no erro lógico de nos concentrarmos em coisas ou pessoas que sobreviveram a algum processo enquanto ignoramos aqueles que foram eliminados devido a sua falta de visibilidade.\n",
    "\n",
    "✱ Ex.: Aviões da Segunda Guerra Mundial.\n",
    "\n",
    "    ○ As partes danificadas dos aviões que retornam mostram locais onde eles podem sofrer um ataque e ainda voltar para casa em segurança; aqueles atingidos em outros lugares não sobrevivem."
   ]
  },
  {
   "cell_type": "markdown",
   "metadata": {},
   "source": [
    "# Amostragem - Tipos\n",
    "\n",
    "◽ Aleatória\n",
    "\n",
    "◽ Não aleatória\n",
    "\n",
    "◽ Estratificada"
   ]
  },
  {
   "cell_type": "markdown",
   "metadata": {},
   "source": [
    "### Aleatória\n",
    "\n",
    "✱ Escolhe-se n elementos de uma população de tamanho N. Todos os elementos de população tem a mesma probabilidade de ser selecionado."
   ]
  },
  {
   "cell_type": "markdown",
   "metadata": {},
   "source": [
    "### Estratificada\n",
    "\n",
    "∎ Para a aplicação dessas técnicas, é necessário identificar:\n",
    "    \n",
    "    ○ Qual a população relevante?\n",
    "    \n",
    "    ○ Qual a população efetada?\n",
    "    \n",
    "    ○ Qual a subdivisão dessa população?\n",
    "    \n",
    "    ○ Qual o tamanho de cada sub divisão?\n",
    "    \n",
    "    ○ Todas as subdivisões são efetadas?\n",
    "    \n",
    "\n",
    "✱ Amostragem estratificada proporcional:\n",
    "    \n",
    "    ○ A amostra deverá obter camadas que obtenham as mesmas proporções observadas na população.\n",
    "    \n",
    "✱ Amostra estratificada uniforme:\n",
    "    \n",
    "    ○ A atribuir o mesmo tamanho de amostra para todas as camadas, independentemente do peso dos estratos da população."
   ]
  },
  {
   "cell_type": "markdown",
   "metadata": {},
   "source": [
    "# Revisão - Probabilidades\n",
    "\n",
    "○ Variam de 0(impossível) a 1 (certo);\n",
    "\n",
    "○ Probabilidades soma 1;\n",
    "\n",
    "○ A distribuição relaciona x com a probabilidade p(x);\n",
    "\n",
    "○ Podem ser funções discretas ou contínuas.\n",
    "\n",
    "\n",
    "✱ Ex.: Qual a probabilidade de obter cara jogando uma moeda(justa) para cima? (Discreta)\n",
    "\n",
    "✱ Ex.: Qual a probabilidade de uma pessoa tirar nota acima da média no Enem? (Contínua)\n",
    "\n"
   ]
  },
  {
   "cell_type": "markdown",
   "metadata": {},
   "source": [
    "# Distribuição normal\n",
    "\n",
    "✱ A distribuição Gaussiana (Normal)\n",
    "\n",
    "○ Área sob essa curva determina a probabilidade de ocorrer o evento por ela correlacionado;\n",
    "\n",
    "○ Soma da área sob a curva de densidade igual a 1;\n",
    "\n",
    "○ Uma curva simétrica em torno do seu ponto médio, apresentando assim seu famoso formato de sino;\n",
    "\n",
    "○ Média, mediana e moda dos dados possuem o mesmo valor.\n",
    "\n",
    "✱ Exemplos de dados que seguem uma distribuição normal:\n",
    "    \n",
    "    ○ Altura e peso de uma população;\n",
    "    \n",
    "    ○ Tamanho do crânio de recém nascidos;\n",
    "    \n",
    "    ○ Pressão sanguínea."
   ]
  },
  {
   "cell_type": "markdown",
   "metadata": {},
   "source": [
    "# Distribuição binomial\n",
    "\n",
    "○ Distribuição de probabilidade e estatística discreta(inteiros e contáveis) uma determinada sequência de tentativas;\n",
    "\n",
    "○ Espaço amostral finito;\n",
    "\n",
    "○ Apenas dois resultados possíveis tentaiva;\n",
    "\n",
    "○ Todos os elementos devem possuir possibilidades iguais de ocorrência;\n",
    "\n",
    "○ Eventos devem ser independentes um dos outros."
   ]
  },
  {
   "cell_type": "markdown",
   "metadata": {},
   "source": [
    "# CDF e PDF\n",
    "\n",
    "✱ Função Densidade de Probabilidade (PDF):\n",
    "    \n",
    "    ○ Descreve a probabilidade relativa de uma variável aleatória tomar um valor dado;\n",
    "    \n",
    "    ○ É não negativa sempre;\n",
    "    \n",
    "    ○ E sua integral sobre todo o espaço é igual a 1;\n",
    "    \n",
    "    ○ Informa a probabilidade de a variável x assumir um valor naquele intervalo.\n",
    "\n",
    "✱ Função Distribuição Acumulada (CDF):\n",
    "    \n",
    "    ○ Descreve a probabilidade acumulada de uma variável aleatória tomar um conjunto de valores dado;\n",
    "    \n",
    "    ○ É não negativa sempre;\n",
    "    \n",
    "    ○ E sua integral sobre todo o espaço é igual a 1;\n",
    "    \n",
    "    ○ Informa a probabilidade de a variável x assumir um valor naquele intervalo.\n",
    "\n",
    "✱ Função Distribuição Acumulada Empírica (ECDF):\n",
    "\n",
    "    ○ Um estimador da função de distribuição cumulativa;\n",
    "    \n",
    "    ○ Modelo emírico;\n",
    "    \n",
    "    ○ Funciona com sua observações."
   ]
  },
  {
   "cell_type": "code",
   "execution_count": null,
   "metadata": {},
   "outputs": [],
   "source": []
  },
  {
   "cell_type": "code",
   "execution_count": null,
   "metadata": {},
   "outputs": [],
   "source": []
  },
  {
   "cell_type": "markdown",
   "metadata": {},
   "source": [
    "# Prática I\n"
   ]
  },
  {
   "cell_type": "code",
   "execution_count": 4,
   "metadata": {},
   "outputs": [],
   "source": [
    "# Importando pacotes\n",
    "from math import sqrt\n",
    "\n",
    "import pandas as pd\n",
    "import numpy as np\n",
    "import matplotlib.pyplot as plt\n",
    "import scipy.stats as sct\n",
    "import seaborn as sns"
   ]
  },
  {
   "cell_type": "code",
   "execution_count": 6,
   "metadata": {},
   "outputs": [],
   "source": [
    "# Alguma configurações para o matplotlib.\n",
    "%matplotlib inline\n",
    "\n",
    "from IPython.core.pylabtools import figsize\n",
    "\n",
    "figsize(12, 8)\n",
    "\n",
    "sns.set()"
   ]
  },
  {
   "cell_type": "code",
   "execution_count": 7,
   "metadata": {},
   "outputs": [
    {
     "data": {
      "text/plain": [
       "<matplotlib.axes._subplots.AxesSubplot at 0x1a8a8b08>"
      ]
     },
     "execution_count": 7,
     "metadata": {},
     "output_type": "execute_result"
    },
    {
     "data": {
      "image/png": "[encoded data removed]",
      "text/plain": [
       "<Figure size 864x576 with 1 Axes>"
      ]
     },
     "metadata": {},
     "output_type": "display_data"
    }
   ],
   "source": [
    "# Criando uma distribuição\n",
    "norm = sct.norm.rvs(loc=10, scale=3, size=1000) # loc é a média, scale é o desvio padrão. x - N(10, 9).\n",
    "\n",
    "sns.distplot(norm)"
   ]
  },
  {
   "cell_type": "code",
   "execution_count": 8,
   "metadata": {},
   "outputs": [
    {
     "data": {
      "text/plain": [
       "(10.107007448356898, 8.477564262959929, 2.911625707909574)"
      ]
     },
     "execution_count": 8,
     "metadata": {},
     "output_type": "execute_result"
    }
   ],
   "source": [
    "# Calculando os valores da média, variancia e desvio padrão\n",
    "(norm.mean(), norm.var(), norm.std())"
   ]
  },
  {
   "cell_type": "code",
   "execution_count": 9,
   "metadata": {},
   "outputs": [
    {
     "data": {
      "text/plain": [
       "0.2524925375469229"
      ]
     },
     "execution_count": 9,
     "metadata": {},
     "output_type": "execute_result"
    }
   ],
   "source": [
    "# Calculo da CDF para P(X ≤ 8)\n",
    "sct.norm.cdf(8, loc=10, scale=3)"
   ]
  },
  {
   "cell_type": "code",
   "execution_count": 10,
   "metadata": {},
   "outputs": [
    {
     "data": {
      "text/plain": [
       "0.5"
      ]
     },
     "execution_count": 10,
     "metadata": {},
     "output_type": "execute_result"
    }
   ],
   "source": [
    "# Calculado da CDF para P(X ≤ μ) \n",
    "# Obviamente, como a distribuição é normal é simétrica em torno da média μ, a probabilidade de X assumir um valor menor\n",
    "# ou igual à média deve ser 0.5 (50%).\n",
    "sct.norm.cdf(10, loc=10, scale=3)"
   ]
  },
  {
   "cell_type": "code",
   "execution_count": 11,
   "metadata": {},
   "outputs": [
    {
     "data": {
      "text/plain": [
       "<matplotlib.axes._subplots.AxesSubplot at 0x513c5b0>"
      ]
     },
     "execution_count": 11,
     "metadata": {},
     "output_type": "execute_result"
    },
    {
     "data": {
      "image/png": "[encoded data removed]",
      "text/plain": [
       "<Figure size 864x576 with 1 Axes>"
      ]
     },
     "metadata": {},
     "output_type": "display_data"
    }
   ],
   "source": [
    "# Podemos utilizar a função cdf() em conjunto com a função linspace() do NumPy para gerar um gráfico da CDF:\n",
    "x = np.linspace(0, 20, num=1000)\n",
    "\n",
    "f = lambda x: sct.norm.cdf(x, loc=10, scale=3)\n",
    "\n",
    "cdf = f(x)\n",
    "\n",
    "sns.lineplot(x, cdf)"
   ]
  },
  {
   "cell_type": "code",
   "execution_count": null,
   "metadata": {},
   "outputs": [],
   "source": []
  }
 ],
 "metadata": {
  "kernelspec": {
   "display_name": "Python 3",
   "language": "python",
   "name": "python3"
  },
  "language_info": {
   "codemirror_mode": {
    "name": "ipython",
    "version": 3
   },
   "file_extension": ".py",
   "mimetype": "text/x-python",
   "name": "python",
   "nbconvert_exporter": "python",
   "pygments_lexer": "ipython3",
   "version": "3.8.0"
  }
 },
 "nbformat": 4,
 "nbformat_minor": 4
}
